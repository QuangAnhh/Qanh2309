{
 "cells": [
  {
   "cell_type": "code",
   "execution_count": null,
   "id": "11e1699d",
   "metadata": {},
   "outputs": [],
   "source": [
    "#TASK 1: IMPORT DATA"
   ]
  },
  {
   "cell_type": "code",
   "execution_count": null,
   "id": "96fb9982",
   "metadata": {},
   "outputs": [],
   "source": [
    "import pandas as pd\n",
    "import numpy as np\n",
    "import matplotlib.pyplot as plt\n",
    "import os\n",
    "\n",
    "\n"
   ]
  },
  {
   "cell_type": "code",
   "execution_count": 13,
   "id": "c0cb6fba",
   "metadata": {},
   "outputs": [
    {
     "data": {
      "text/html": [
       "<div>\n",
       "<style scoped>\n",
       "    .dataframe tbody tr th:only-of-type {\n",
       "        vertical-align: middle;\n",
       "    }\n",
       "\n",
       "    .dataframe tbody tr th {\n",
       "        vertical-align: top;\n",
       "    }\n",
       "\n",
       "    .dataframe thead th {\n",
       "        text-align: right;\n",
       "    }\n",
       "</style>\n",
       "<table border=\"1\" class=\"dataframe\">\n",
       "  <thead>\n",
       "    <tr style=\"text-align: right;\">\n",
       "      <th></th>\n",
       "      <th>Order ID</th>\n",
       "      <th>Product</th>\n",
       "      <th>Quantity Ordered</th>\n",
       "      <th>Price Each</th>\n",
       "      <th>Order Date</th>\n",
       "      <th>Purchase Address</th>\n",
       "    </tr>\n",
       "  </thead>\n",
       "  <tbody>\n",
       "    <tr>\n",
       "      <th>0</th>\n",
       "      <td>209921</td>\n",
       "      <td>USB-C Charging Cable</td>\n",
       "      <td>1</td>\n",
       "      <td>11.95</td>\n",
       "      <td>06/23/19 19:34</td>\n",
       "      <td>950 Walnut St, Portland, ME 04101</td>\n",
       "    </tr>\n",
       "    <tr>\n",
       "      <th>1</th>\n",
       "      <td>209922</td>\n",
       "      <td>Macbook Pro Laptop</td>\n",
       "      <td>1</td>\n",
       "      <td>1700.0</td>\n",
       "      <td>06/30/19 10:05</td>\n",
       "      <td>80 4th St, San Francisco, CA 94016</td>\n",
       "    </tr>\n",
       "    <tr>\n",
       "      <th>2</th>\n",
       "      <td>209923</td>\n",
       "      <td>ThinkPad Laptop</td>\n",
       "      <td>1</td>\n",
       "      <td>999.99</td>\n",
       "      <td>06/24/19 20:18</td>\n",
       "      <td>402 Jackson St, Los Angeles, CA 90001</td>\n",
       "    </tr>\n",
       "    <tr>\n",
       "      <th>3</th>\n",
       "      <td>209924</td>\n",
       "      <td>27in FHD Monitor</td>\n",
       "      <td>1</td>\n",
       "      <td>149.99</td>\n",
       "      <td>06/05/19 10:21</td>\n",
       "      <td>560 10th St, Seattle, WA 98101</td>\n",
       "    </tr>\n",
       "    <tr>\n",
       "      <th>4</th>\n",
       "      <td>209925</td>\n",
       "      <td>Bose SoundSport Headphones</td>\n",
       "      <td>1</td>\n",
       "      <td>99.99</td>\n",
       "      <td>06/25/19 18:58</td>\n",
       "      <td>545 2nd St, San Francisco, CA 94016</td>\n",
       "    </tr>\n",
       "  </tbody>\n",
       "</table>\n",
       "</div>"
      ],
      "text/plain": [
       "  Order ID                     Product Quantity Ordered Price Each  \\\n",
       "0   209921        USB-C Charging Cable                1      11.95   \n",
       "1   209922          Macbook Pro Laptop                1     1700.0   \n",
       "2   209923             ThinkPad Laptop                1     999.99   \n",
       "3   209924            27in FHD Monitor                1     149.99   \n",
       "4   209925  Bose SoundSport Headphones                1      99.99   \n",
       "\n",
       "       Order Date                       Purchase Address  \n",
       "0  06/23/19 19:34      950 Walnut St, Portland, ME 04101  \n",
       "1  06/30/19 10:05     80 4th St, San Francisco, CA 94016  \n",
       "2  06/24/19 20:18  402 Jackson St, Los Angeles, CA 90001  \n",
       "3  06/05/19 10:21         560 10th St, Seattle, WA 98101  \n",
       "4  06/25/19 18:58    545 2nd St, San Francisco, CA 94016  "
      ]
     },
     "execution_count": 13,
     "metadata": {},
     "output_type": "execute_result"
    }
   ],
   "source": [
    "path = \"E:/Marketing PTIT/Datamining/final/\"\n",
    "data = pd.read_csv(path + \"sales2019_6.csv\")\n",
    "data.head()\n"
   ]
  },
  {
   "cell_type": "code",
   "execution_count": 15,
   "id": "eb2bba49",
   "metadata": {},
   "outputs": [],
   "source": [
    "#TASK 2: Clean data "
   ]
  },
  {
   "cell_type": "code",
   "execution_count": 27,
   "id": "0ecc9004",
   "metadata": {},
   "outputs": [],
   "source": [
    "frames=[]\n",
    "\n",
    "for file in os.listdir(path):\n",
    "    if file.endswith(\".csv\"):\n",
    "        filepath = path + file\n",
    "        df1 = pd.read_csv(filepath)\n",
    "        frames.append(df1)\n",
    "        result = pd.concat(frames)\n",
    "    \n",
    "df = result\n",
    "df.to_csv(\"Annual_sales2019.csv\")\n",
    "        "
   ]
  },
  {
   "cell_type": "code",
   "execution_count": null,
   "id": "135f7327",
   "metadata": {},
   "outputs": [],
   "source": []
  }
 ],
 "metadata": {
  "kernelspec": {
   "display_name": "Python 3 (ipykernel)",
   "language": "python",
   "name": "python3"
  },
  "language_info": {
   "codemirror_mode": {
    "name": "ipython",
    "version": 3
   },
   "file_extension": ".py",
   "mimetype": "text/x-python",
   "name": "python",
   "nbconvert_exporter": "python",
   "pygments_lexer": "ipython3",
   "version": "3.9.7"
  }
 },
 "nbformat": 4,
 "nbformat_minor": 5
}
